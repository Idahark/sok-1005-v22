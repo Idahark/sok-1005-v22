{
 "cells": [
  {
   "cell_type": "markdown",
   "id": "2a4bb70f-29c7-451c-91ae-055914f81619",
   "metadata": {},
   "source": [
    "Oppgave 1."
   ]
  },
  {
   "cell_type": "code",
   "execution_count": null,
   "id": "756eb53f-f012-479a-b123-cda3c2da33f1",
   "metadata": {},
   "outputs": [],
   "source": [
    "library(rjson)\n",
    "library(tidyverse)\n",
    "library(jsonlite)\n",
    "library(ggplot2)\n",
    "\n",
    "\n",
    "url <- jsonlite::fromJSON(\"https://static01.nyt.com/newsgraphics/2021/12/20/us-coronavirus-deaths-2021/ff0adde21623e111d8ce103fedecf7ffc7906264/scatter.json\")\n",
    "\n",
    "url2 <-\n",
    "  url%>%\n",
    "  mutate(percentage_of_vacc = fully_vaccinated_pct_of_pop*100)\n",
    "\n",
    "url2 %>%\n",
    "  ggplot(aes(x=percentage_of_vacc, y=deaths_per_100k, label=name))+\n",
    "  geom_point()+\n",
    "  geom_text(hjust=0, vjust=0, size = 2)+\n",
    "  labs(x=\"Fully vaccinated percentage of population\",\n",
    "       y=\"Avg. monthly death per 100k\")+\n",
    "  theme(legend.position = \"top\")\n",
    "\n"
   ]
  }
 ],
 "metadata": {
  "kernelspec": {
   "display_name": "R",
   "language": "R",
   "name": "ir"
  },
  "language_info": {
   "codemirror_mode": "r",
   "file_extension": ".r",
   "mimetype": "text/x-r-source",
   "name": "R",
   "pygments_lexer": "r",
   "version": "4.1.2"
  }
 },
 "nbformat": 4,
 "nbformat_minor": 5
}
