{
 "cells": [
  {
   "cell_type": "markdown",
   "id": "bd762635-55b8-4118-aa53-14251f64f15f",
   "metadata": {},
   "source": [
    "Oppgave 2"
   ]
  },
  {
   "cell_type": "code",
   "execution_count": 1,
   "id": "42800a05-08a9-4c5f-a1a2-c61a1de16bf4",
   "metadata": {},
   "outputs": [
    {
     "ename": "ERROR",
     "evalue": "Error in library(rjson): there is no package called ‘rjson’\n",
     "output_type": "error",
     "traceback": [
      "Error in library(rjson): there is no package called ‘rjson’\nTraceback:\n",
      "1. library(rjson)"
     ]
    }
   ],
   "source": [
    "library(rjson)\n",
    "library(tidyverse)\n",
    "library(jsonlite)\n",
    "library(ggplot2)\n",
    "\n",
    "\n",
    "url <- jsonlite::fromJSON(\"https://static01.nyt.com/newsgraphics/2021/12/20/us-coronavirus-deaths-2021/ff0adde21623e111d8ce103fedecf7ffc7906264/scatter.json\")\n",
    "\n",
    "url2 <-\n",
    "  url%>%\n",
    "  mutate(percentage_of_vacc = fully_vaccinated_pct_of_pop*100)\n",
    "\n",
    "url2 %>%\n",
    "  ggplot(aes(x=percentage_of_vacc, y=deaths_per_100k, label=name))+\n",
    "  geom_point()+\n",
    "  geom_text(hjust=0, vjust=0, size = 2)+\n",
    "  geom_smooth(method = lm)+\n",
    "  labs(x=\"Fully vaccinated percentage of population\",\n",
    "       y=\"Avg. monthly death per 100k\")+\n",
    "  theme(legend.position = \"top\")\n",
    "\n",
    "lm(data = url2, deaths_per_100k~percentage_of_vacc)\n"
   ]
  },
  {
   "cell_type": "markdown",
   "id": "246061a6-f30f-4570-90fa-3eec5b2a21e7",
   "metadata": {},
   "source": [
    "Ved å bruke formelen lm, finner vi de to koeffisientene mellom \"deaths per 100k\" og \"percentage of fully vaccinated population\". Linjen viser en konkret sammenheng mellom antall døde og vaksinerte. Disse tallene viser hvorvidt resultatet blir påvirket ved en økning av x (vaksinerte sammenlignet med døde)"
   ]
  }
 ],
 "metadata": {
  "kernelspec": {
   "display_name": "R",
   "language": "R",
   "name": "ir"
  },
  "language_info": {
   "codemirror_mode": "r",
   "file_extension": ".r",
   "mimetype": "text/x-r-source",
   "name": "R",
   "pygments_lexer": "r",
   "version": "4.1.2"
  }
 },
 "nbformat": 4,
 "nbformat_minor": 5
}
