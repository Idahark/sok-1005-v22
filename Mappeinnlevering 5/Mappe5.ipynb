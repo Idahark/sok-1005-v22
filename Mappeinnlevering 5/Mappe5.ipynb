{
 "cells": [
  {
   "cell_type": "code",
   "execution_count": 1,
   "id": "849bdd02-4157-48bb-aec8-38eb1db2a68f",
   "metadata": {},
   "outputs": [
    {
     "name": "stdout",
     "output_type": "stream",
     "text": [
      "<table class=\"has-fixed-layout\"><tbody><tr><td class=\"has-text-align-left\" data-align=\"left\"><strong>Lønnstrinn</strong></td><td class=\"has-text-align-left\" data-align=\"left\"><strong>Pr. år</strong></td><td class=\"has-text-align-left\" data-align=\"left\"><strong>Pr. mnd (1)</strong></td><td class=\"has-text-align-left\" data-align=\"left\"><strong>Pr. time (2)</strong></td></tr><tr><td class=\"has-text-align-left\" data-align=\"left\">22</td><td class=\"has-text-align-left\" data-align=\"left\">353 251</td><td class=\"has-text-align-left\" data-align=\"left\">29 438</td><td class=\"has-text-align-left\" data-align=\"left\">183,98</td></tr><tr><td class=\"has-text-align-left\" data-align=\"left\">23</td><td class=\"has-text-align-left\" data-align=\"left\">357 506</td><td class=\"has-text-align-left\" data-align=\"left\">29 792</td><td class=\"has-text-align-left\" data-align=\"left\">186,20</td></tr><tr><td class=\"has-text-align-left\" data-align=\"left\">24</td><td class=\"has-text-align-left\" data-align=\"left\">361 353</td><t\n"
     ]
    }
   ],
   "source": [
    "from bs4 import BeautifulSoup\n",
    "import requests\n",
    "\n",
    "def fetch_html_tables(url):\n",
    "    \"Returns a list of tables in the html of url\"\n",
    "    page = requests.get(url)\n",
    "    bs=BeautifulSoup(page.content)\n",
    "    tables=bs.find_all('table')\n",
    "    return tables\n",
    "\n",
    "tables=fetch_html_tables('https://www.finansforbundet.no/lonn/lonnsregulativet/')\n",
    "table_html=tables[0]\n",
    "\n",
    "print(str(table_html)[:1000])"
   ]
  },
  {
   "cell_type": "code",
   "execution_count": 2,
   "id": "5d96c754-584d-4dff-9676-d4d3c1022a99",
   "metadata": {},
   "outputs": [
    {
     "name": "stdout",
     "output_type": "stream",
     "text": [
      "[['Lønnstrinn', 'Pr. år', 'Pr. mnd(1)', 'Pr. time(2)'], ['22', '353 251', '29 438', '183,98'], ['23', '357 506', '29 792', '186,20'], ['24', '361 353', '30 113', '188,20'], ['25', '365 686', '30 474', '190,46'], ['26', '370 047', '30 837', '192,73'], ['27', '374 548', '31 212', '195,08'], ['28', '380 171', '31 681', '198,01'], ['29', '386 025', '32 169', '201,05'], ['30', '391 886', '32 657', '204,11'], ['31', '396 720', '33 060', '206,63'], ['32', '402 924', '33 577', '209,86'], ['33', '409 128', '34 094', '213,09'], ['34', '415 360', '34 613', '216,33'], ['35', '421 677', '35 140', '219,62'], ['36', '429 301', '35 775', '223,59'], ['37', '436 929', '36 411', '227,57'], ['38', '442 459', '36 872', '230,45'], ['39', '450 270', '37 523', '234,52'], ['40', '458 120', '38 177', '238,60'], ['41', '466 144', '38 845', '242,78'], ['42', '474 008', '39 501', '246,88'], ['43', '481 868', '40 156', '250,97'], ['44', '489 931', '40 828', '255,17'], ['45', '497 987', '41 499', '259,37'], ['46', '\n"
     ]
    }
   ],
   "source": [
    "def html_to_table(html):\n",
    "    \"Returns the table defined in html as a list\"\n",
    "    table=[]\n",
    "    for row in html.find_all('tr'):\n",
    "        r=[]\n",
    "        cells=row.find_all('td')\n",
    "        \n",
    "        if len(cells)==0:\n",
    "            cells=row.find_all('th')\n",
    "            \n",
    "        for cell in cells:\n",
    "            cell=format(cell)\n",
    "            r.append(cell)\n",
    "        \n",
    "        table.append(r)\n",
    "    return table\n",
    "\n",
    "def format(cell):\n",
    "    \"Returns a string after converting bs4 object cell to clean text\"\n",
    "    if cell.content is None:\n",
    "        s=cell.text\n",
    "    elif len(cell.content)==0:\n",
    "        return ''\n",
    "    else:\n",
    "        s=' '.join([str(c) for c in cell.content])\n",
    "        \n",
    "    s=s.replace('\\xa0','')\n",
    "    s=s.replace('\\n','')\n",
    "    return s\n",
    "\n",
    "table=html_to_table(table_html)\n",
    "\n",
    "print(str(table)[:1000])"
   ]
  },
  {
   "cell_type": "code",
   "execution_count": 3,
   "id": "3e011ee4-a3a4-4425-a951-c2fb8a5f8783",
   "metadata": {},
   "outputs": [
    {
     "data": {
      "text/plain": [
       "'Lønnstrinn;Pr. år;Pr. mnd(1);Pr. time(2)'"
      ]
     },
     "execution_count": 3,
     "metadata": {},
     "output_type": "execute_result"
    }
   ],
   "source": [
    "';'.join(table[0])"
   ]
  },
  {
   "cell_type": "code",
   "execution_count": 4,
   "id": "b6464129-bf6a-4bdb-aa42-0920ec5c55e3",
   "metadata": {},
   "outputs": [],
   "source": [
    "def save_data(file_name,table):\n",
    "    \"Saves table to file_name\"\n",
    "    f=open(file_name,'w')\n",
    "    for row in table:\n",
    "        f.write(';'.join(row)+'\\n')\n",
    "    f.close()\n",
    "    \n",
    "save_data('lonn.csv',table)"
   ]
  },
  {
   "cell_type": "code",
   "execution_count": 5,
   "id": "62e525d4-e672-4f05-b57e-aaf11ace9fef",
   "metadata": {},
   "outputs": [
    {
     "data": {
      "text/html": [
       "<div>\n",
       "<style scoped>\n",
       "    .dataframe tbody tr th:only-of-type {\n",
       "        vertical-align: middle;\n",
       "    }\n",
       "\n",
       "    .dataframe tbody tr th {\n",
       "        vertical-align: top;\n",
       "    }\n",
       "\n",
       "    .dataframe thead th {\n",
       "        text-align: right;\n",
       "    }\n",
       "</style>\n",
       "<table border=\"1\" class=\"dataframe\">\n",
       "  <thead>\n",
       "    <tr style=\"text-align: right;\">\n",
       "      <th></th>\n",
       "      <th>Lønnstrinn</th>\n",
       "      <th>Pr. år</th>\n",
       "      <th>Pr. mnd(1)</th>\n",
       "      <th>Pr. time(2)</th>\n",
       "    </tr>\n",
       "  </thead>\n",
       "  <tbody>\n",
       "    <tr>\n",
       "      <th>0</th>\n",
       "      <td>22</td>\n",
       "      <td>353 251</td>\n",
       "      <td>29 438</td>\n",
       "      <td>183,98</td>\n",
       "    </tr>\n",
       "    <tr>\n",
       "      <th>1</th>\n",
       "      <td>23</td>\n",
       "      <td>357 506</td>\n",
       "      <td>29 792</td>\n",
       "      <td>186,20</td>\n",
       "    </tr>\n",
       "    <tr>\n",
       "      <th>2</th>\n",
       "      <td>24</td>\n",
       "      <td>361 353</td>\n",
       "      <td>30 113</td>\n",
       "      <td>188,20</td>\n",
       "    </tr>\n",
       "    <tr>\n",
       "      <th>3</th>\n",
       "      <td>25</td>\n",
       "      <td>365 686</td>\n",
       "      <td>30 474</td>\n",
       "      <td>190,46</td>\n",
       "    </tr>\n",
       "    <tr>\n",
       "      <th>4</th>\n",
       "      <td>26</td>\n",
       "      <td>370 047</td>\n",
       "      <td>30 837</td>\n",
       "      <td>192,73</td>\n",
       "    </tr>\n",
       "    <tr>\n",
       "      <th>...</th>\n",
       "      <td>...</td>\n",
       "      <td>...</td>\n",
       "      <td>...</td>\n",
       "      <td>...</td>\n",
       "    </tr>\n",
       "    <tr>\n",
       "      <th>60</th>\n",
       "      <td>82</td>\n",
       "      <td>918 899</td>\n",
       "      <td>76 575</td>\n",
       "      <td>478,59</td>\n",
       "    </tr>\n",
       "    <tr>\n",
       "      <th>61</th>\n",
       "      <td>83</td>\n",
       "      <td>931 113</td>\n",
       "      <td>77 593</td>\n",
       "      <td>484,95</td>\n",
       "    </tr>\n",
       "    <tr>\n",
       "      <th>62</th>\n",
       "      <td>84</td>\n",
       "      <td>943 328</td>\n",
       "      <td>78 611</td>\n",
       "      <td>491,32</td>\n",
       "    </tr>\n",
       "    <tr>\n",
       "      <th>63</th>\n",
       "      <td>85</td>\n",
       "      <td>955 543</td>\n",
       "      <td>79 629</td>\n",
       "      <td>497,68</td>\n",
       "    </tr>\n",
       "    <tr>\n",
       "      <th>64</th>\n",
       "      <td>86</td>\n",
       "      <td>967 758</td>\n",
       "      <td>80 646</td>\n",
       "      <td>504,04</td>\n",
       "    </tr>\n",
       "  </tbody>\n",
       "</table>\n",
       "<p>65 rows × 4 columns</p>\n",
       "</div>"
      ],
      "text/plain": [
       "    Lønnstrinn   Pr. år Pr. mnd(1) Pr. time(2)\n",
       "0           22  353 251     29 438      183,98\n",
       "1           23  357 506     29 792      186,20\n",
       "2           24  361 353     30 113      188,20\n",
       "3           25  365 686     30 474      190,46\n",
       "4           26  370 047     30 837      192,73\n",
       "..         ...      ...        ...         ...\n",
       "60          82  918 899     76 575      478,59\n",
       "61          83  931 113     77 593      484,95\n",
       "62          84  943 328     78 611      491,32\n",
       "63          85  955 543     79 629      497,68\n",
       "64          86  967 758     80 646      504,04\n",
       "\n",
       "[65 rows x 4 columns]"
      ]
     },
     "execution_count": 5,
     "metadata": {},
     "output_type": "execute_result"
    }
   ],
   "source": [
    "import pandas as pd\n",
    "k=pd.read_csv('lonn.csv', delimiter=';')\n",
    "k"
   ]
  },
  {
   "cell_type": "code",
   "execution_count": 6,
   "id": "65c340fe-1380-4f34-943e-de3d7696cebb",
   "metadata": {},
   "outputs": [
    {
     "data": {
      "text/html": [
       "<div>\n",
       "<style scoped>\n",
       "    .dataframe tbody tr th:only-of-type {\n",
       "        vertical-align: middle;\n",
       "    }\n",
       "\n",
       "    .dataframe tbody tr th {\n",
       "        vertical-align: top;\n",
       "    }\n",
       "\n",
       "    .dataframe thead th {\n",
       "        text-align: right;\n",
       "    }\n",
       "</style>\n",
       "<table border=\"1\" class=\"dataframe\">\n",
       "  <thead>\n",
       "    <tr style=\"text-align: right;\">\n",
       "      <th></th>\n",
       "      <th>Lønnstrinn</th>\n",
       "      <th>Pr. år</th>\n",
       "      <th>Pr. mnd(1)</th>\n",
       "      <th>Pr. time(2)</th>\n",
       "    </tr>\n",
       "  </thead>\n",
       "  <tbody>\n",
       "    <tr>\n",
       "      <th>0</th>\n",
       "      <td>22</td>\n",
       "      <td>353251</td>\n",
       "      <td>29438</td>\n",
       "      <td>183.98</td>\n",
       "    </tr>\n",
       "    <tr>\n",
       "      <th>1</th>\n",
       "      <td>23</td>\n",
       "      <td>357506</td>\n",
       "      <td>29792</td>\n",
       "      <td>186.20</td>\n",
       "    </tr>\n",
       "    <tr>\n",
       "      <th>2</th>\n",
       "      <td>24</td>\n",
       "      <td>361353</td>\n",
       "      <td>30113</td>\n",
       "      <td>188.20</td>\n",
       "    </tr>\n",
       "    <tr>\n",
       "      <th>3</th>\n",
       "      <td>25</td>\n",
       "      <td>365686</td>\n",
       "      <td>30474</td>\n",
       "      <td>190.46</td>\n",
       "    </tr>\n",
       "    <tr>\n",
       "      <th>4</th>\n",
       "      <td>26</td>\n",
       "      <td>370047</td>\n",
       "      <td>30837</td>\n",
       "      <td>192.73</td>\n",
       "    </tr>\n",
       "    <tr>\n",
       "      <th>...</th>\n",
       "      <td>...</td>\n",
       "      <td>...</td>\n",
       "      <td>...</td>\n",
       "      <td>...</td>\n",
       "    </tr>\n",
       "    <tr>\n",
       "      <th>60</th>\n",
       "      <td>82</td>\n",
       "      <td>918899</td>\n",
       "      <td>76575</td>\n",
       "      <td>478.59</td>\n",
       "    </tr>\n",
       "    <tr>\n",
       "      <th>61</th>\n",
       "      <td>83</td>\n",
       "      <td>931113</td>\n",
       "      <td>77593</td>\n",
       "      <td>484.95</td>\n",
       "    </tr>\n",
       "    <tr>\n",
       "      <th>62</th>\n",
       "      <td>84</td>\n",
       "      <td>943328</td>\n",
       "      <td>78611</td>\n",
       "      <td>491.32</td>\n",
       "    </tr>\n",
       "    <tr>\n",
       "      <th>63</th>\n",
       "      <td>85</td>\n",
       "      <td>955543</td>\n",
       "      <td>79629</td>\n",
       "      <td>497.68</td>\n",
       "    </tr>\n",
       "    <tr>\n",
       "      <th>64</th>\n",
       "      <td>86</td>\n",
       "      <td>967758</td>\n",
       "      <td>80646</td>\n",
       "      <td>504.04</td>\n",
       "    </tr>\n",
       "  </tbody>\n",
       "</table>\n",
       "<p>65 rows × 4 columns</p>\n",
       "</div>"
      ],
      "text/plain": [
       "    Lønnstrinn  Pr. år Pr. mnd(1) Pr. time(2)\n",
       "0           22  353251      29438      183.98\n",
       "1           23  357506      29792      186.20\n",
       "2           24  361353      30113      188.20\n",
       "3           25  365686      30474      190.46\n",
       "4           26  370047      30837      192.73\n",
       "..         ...     ...        ...         ...\n",
       "60          82  918899      76575      478.59\n",
       "61          83  931113      77593      484.95\n",
       "62          84  943328      78611      491.32\n",
       "63          85  955543      79629      497.68\n",
       "64          86  967758      80646      504.04\n",
       "\n",
       "[65 rows x 4 columns]"
      ]
     },
     "execution_count": 6,
     "metadata": {},
     "output_type": "execute_result"
    }
   ],
   "source": [
    "k['Lønnstrinn'].replace(' ','', regex=True, inplace=True)\n",
    "k['Pr. år'].replace(' ','', regex=True, inplace=True)\n",
    "k['Pr. mnd(1)'].replace(' ','', regex=True, inplace=True)\n",
    "k['Pr. time(2)'].replace(' ','', regex=True, inplace=True)\n",
    "k['Pr. time(2)'].replace(',','.', regex=True, inplace=True)\n",
    "k"
   ]
  },
  {
   "cell_type": "code",
   "execution_count": 7,
   "id": "1047096a-3597-453b-9fa2-57eb8c99a63d",
   "metadata": {},
   "outputs": [
    {
     "data": {
      "text/html": [
       "<div>\n",
       "<style scoped>\n",
       "    .dataframe tbody tr th:only-of-type {\n",
       "        vertical-align: middle;\n",
       "    }\n",
       "\n",
       "    .dataframe tbody tr th {\n",
       "        vertical-align: top;\n",
       "    }\n",
       "\n",
       "    .dataframe thead th {\n",
       "        text-align: right;\n",
       "    }\n",
       "</style>\n",
       "<table border=\"1\" class=\"dataframe\">\n",
       "  <thead>\n",
       "    <tr style=\"text-align: right;\">\n",
       "      <th></th>\n",
       "      <th>Lønnstrinn</th>\n",
       "      <th>Pr. år</th>\n",
       "      <th>Pr. mnd(1)</th>\n",
       "      <th>Pr. time(2)</th>\n",
       "    </tr>\n",
       "  </thead>\n",
       "  <tbody>\n",
       "    <tr>\n",
       "      <th>0</th>\n",
       "      <td>22</td>\n",
       "      <td>353251</td>\n",
       "      <td>29438</td>\n",
       "      <td>183.98</td>\n",
       "    </tr>\n",
       "    <tr>\n",
       "      <th>1</th>\n",
       "      <td>23</td>\n",
       "      <td>357506</td>\n",
       "      <td>29792</td>\n",
       "      <td>186.20</td>\n",
       "    </tr>\n",
       "    <tr>\n",
       "      <th>2</th>\n",
       "      <td>24</td>\n",
       "      <td>361353</td>\n",
       "      <td>30113</td>\n",
       "      <td>188.20</td>\n",
       "    </tr>\n",
       "    <tr>\n",
       "      <th>3</th>\n",
       "      <td>25</td>\n",
       "      <td>365686</td>\n",
       "      <td>30474</td>\n",
       "      <td>190.46</td>\n",
       "    </tr>\n",
       "    <tr>\n",
       "      <th>4</th>\n",
       "      <td>26</td>\n",
       "      <td>370047</td>\n",
       "      <td>30837</td>\n",
       "      <td>192.73</td>\n",
       "    </tr>\n",
       "    <tr>\n",
       "      <th>...</th>\n",
       "      <td>...</td>\n",
       "      <td>...</td>\n",
       "      <td>...</td>\n",
       "      <td>...</td>\n",
       "    </tr>\n",
       "    <tr>\n",
       "      <th>60</th>\n",
       "      <td>82</td>\n",
       "      <td>918899</td>\n",
       "      <td>76575</td>\n",
       "      <td>478.59</td>\n",
       "    </tr>\n",
       "    <tr>\n",
       "      <th>61</th>\n",
       "      <td>83</td>\n",
       "      <td>931113</td>\n",
       "      <td>77593</td>\n",
       "      <td>484.95</td>\n",
       "    </tr>\n",
       "    <tr>\n",
       "      <th>62</th>\n",
       "      <td>84</td>\n",
       "      <td>943328</td>\n",
       "      <td>78611</td>\n",
       "      <td>491.32</td>\n",
       "    </tr>\n",
       "    <tr>\n",
       "      <th>63</th>\n",
       "      <td>85</td>\n",
       "      <td>955543</td>\n",
       "      <td>79629</td>\n",
       "      <td>497.68</td>\n",
       "    </tr>\n",
       "    <tr>\n",
       "      <th>64</th>\n",
       "      <td>86</td>\n",
       "      <td>967758</td>\n",
       "      <td>80646</td>\n",
       "      <td>504.04</td>\n",
       "    </tr>\n",
       "  </tbody>\n",
       "</table>\n",
       "<p>65 rows × 4 columns</p>\n",
       "</div>"
      ],
      "text/plain": [
       "    Lønnstrinn  Pr. år Pr. mnd(1) Pr. time(2)\n",
       "0           22  353251      29438      183.98\n",
       "1           23  357506      29792      186.20\n",
       "2           24  361353      30113      188.20\n",
       "3           25  365686      30474      190.46\n",
       "4           26  370047      30837      192.73\n",
       "..         ...     ...        ...         ...\n",
       "60          82  918899      76575      478.59\n",
       "61          83  931113      77593      484.95\n",
       "62          84  943328      78611      491.32\n",
       "63          85  955543      79629      497.68\n",
       "64          86  967758      80646      504.04\n",
       "\n",
       "[65 rows x 4 columns]"
      ]
     },
     "execution_count": 7,
     "metadata": {},
     "output_type": "execute_result"
    }
   ],
   "source": [
    "k['Lønnstrinn'] = k['Lønnstrinn'].apply(pd.to_numeric,errors='coerce')\n",
    "k['Pr. år'] = k['Pr. år'].apply(pd.to_numeric,errors='coerce')\n",
    "k"
   ]
  },
  {
   "cell_type": "code",
   "execution_count": 8,
   "id": "d41c1aa5-0b38-4283-88e2-79d9f160f2ff",
   "metadata": {},
   "outputs": [
    {
     "data": {
      "text/plain": [
       "<matplotlib.legend.Legend at 0x7fe0e4ac05b0>"
      ]
     },
     "execution_count": 8,
     "metadata": {},
     "output_type": "execute_result"
    },
    {
     "data": {
      "image/png": "[encoded data removed]",
      "text/plain": [
       "<Figure size 432x288 with 1 Axes>"
      ]
     },
     "metadata": {
      "needs_background": "light"
     },
     "output_type": "display_data"
    }
   ],
   "source": [
    "from matplotlib import pyplot as plt\n",
    "\n",
    "fig,ax=plt.subplots()\n",
    "\n",
    "#adding axis lables:\n",
    "ax.set_ylabel('Lønn per år')\n",
    "ax.set_xlabel('Lønnstrinn')\n",
    "\n",
    "#plotting the function:\n",
    "ax.scatter(k['Lønnstrinn'], k['Pr. år'],  label='Observasjoner')\n",
    "ax.legend(loc='lower right',frameon=False)"
   ]
  },
  {
   "cell_type": "code",
   "execution_count": 9,
   "id": "7d3b38e8-7c62-4991-a0b0-4aab63ebedee",
   "metadata": {},
   "outputs": [
    {
     "data": {
      "text/plain": [
       "<matplotlib.legend.Legend at 0x7fe0e4a6a7f0>"
      ]
     },
     "execution_count": 9,
     "metadata": {},
     "output_type": "execute_result"
    },
    {
     "data": {
      "image/png": "[encoded data removed]",
      "text/plain": [
       "<Figure size 432x288 with 1 Axes>"
      ]
     },
     "metadata": {
      "needs_background": "light"
     },
     "output_type": "display_data"
    }
   ],
   "source": [
    "import numpy as np\n",
    "from matplotlib import pyplot as plt\n",
    "\n",
    "fig,ax=plt.subplots()\n",
    "\n",
    "#adding axis lables:\n",
    "ax.set_ylabel('Lønn per år')\n",
    "ax.set_xlabel('Lønnstrinn')\n",
    "\n",
    "#plotting the function:\n",
    "ax.scatter(np.log(k['Lønnstrinn']), k['Pr. år'],  label='Observasjoner')\n",
    "ax.legend(loc='lower right',frameon=False)"
   ]
  },
  {
   "cell_type": "code",
   "execution_count": 10,
   "id": "8ede23dc-b628-48bd-ab2b-9c1b3338e8eb",
   "metadata": {},
   "outputs": [
    {
     "data": {
      "text/html": [
       "<div>\n",
       "<style scoped>\n",
       "    .dataframe tbody tr th:only-of-type {\n",
       "        vertical-align: middle;\n",
       "    }\n",
       "\n",
       "    .dataframe tbody tr th {\n",
       "        vertical-align: top;\n",
       "    }\n",
       "\n",
       "    .dataframe thead th {\n",
       "        text-align: right;\n",
       "    }\n",
       "</style>\n",
       "<table border=\"1\" class=\"dataframe\">\n",
       "  <thead>\n",
       "    <tr style=\"text-align: right;\">\n",
       "      <th></th>\n",
       "      <th>Pr. år</th>\n",
       "    </tr>\n",
       "  </thead>\n",
       "  <tbody>\n",
       "    <tr>\n",
       "      <th>0</th>\n",
       "      <td>353251</td>\n",
       "    </tr>\n",
       "    <tr>\n",
       "      <th>1</th>\n",
       "      <td>357506</td>\n",
       "    </tr>\n",
       "    <tr>\n",
       "      <th>2</th>\n",
       "      <td>361353</td>\n",
       "    </tr>\n",
       "    <tr>\n",
       "      <th>3</th>\n",
       "      <td>365686</td>\n",
       "    </tr>\n",
       "    <tr>\n",
       "      <th>4</th>\n",
       "      <td>370047</td>\n",
       "    </tr>\n",
       "    <tr>\n",
       "      <th>...</th>\n",
       "      <td>...</td>\n",
       "    </tr>\n",
       "    <tr>\n",
       "      <th>60</th>\n",
       "      <td>918899</td>\n",
       "    </tr>\n",
       "    <tr>\n",
       "      <th>61</th>\n",
       "      <td>931113</td>\n",
       "    </tr>\n",
       "    <tr>\n",
       "      <th>62</th>\n",
       "      <td>943328</td>\n",
       "    </tr>\n",
       "    <tr>\n",
       "      <th>63</th>\n",
       "      <td>955543</td>\n",
       "    </tr>\n",
       "    <tr>\n",
       "      <th>64</th>\n",
       "      <td>967758</td>\n",
       "    </tr>\n",
       "  </tbody>\n",
       "</table>\n",
       "<p>65 rows × 1 columns</p>\n",
       "</div>"
      ],
      "text/plain": [
       "    Pr. år\n",
       "0   353251\n",
       "1   357506\n",
       "2   361353\n",
       "3   365686\n",
       "4   370047\n",
       "..     ...\n",
       "60  918899\n",
       "61  931113\n",
       "62  943328\n",
       "63  955543\n",
       "64  967758\n",
       "\n",
       "[65 rows x 1 columns]"
      ]
     },
     "execution_count": 10,
     "metadata": {},
     "output_type": "execute_result"
    }
   ],
   "source": [
    "y=k['Pr. år']\n",
    "pd.DataFrame(y)"
   ]
  },
  {
   "cell_type": "code",
   "execution_count": 11,
   "id": "71cd7a2f-e24d-4426-8aac-7928eabafd66",
   "metadata": {},
   "outputs": [
    {
     "data": {
      "text/html": [
       "<div>\n",
       "<style scoped>\n",
       "    .dataframe tbody tr th:only-of-type {\n",
       "        vertical-align: middle;\n",
       "    }\n",
       "\n",
       "    .dataframe tbody tr th {\n",
       "        vertical-align: top;\n",
       "    }\n",
       "\n",
       "    .dataframe thead th {\n",
       "        text-align: right;\n",
       "    }\n",
       "</style>\n",
       "<table border=\"1\" class=\"dataframe\">\n",
       "  <thead>\n",
       "    <tr style=\"text-align: right;\">\n",
       "      <th></th>\n",
       "      <th>Lønnstrinn</th>\n",
       "      <th>intercept</th>\n",
       "    </tr>\n",
       "  </thead>\n",
       "  <tbody>\n",
       "    <tr>\n",
       "      <th>0</th>\n",
       "      <td>3.091042</td>\n",
       "      <td>1</td>\n",
       "    </tr>\n",
       "    <tr>\n",
       "      <th>1</th>\n",
       "      <td>3.135494</td>\n",
       "      <td>1</td>\n",
       "    </tr>\n",
       "    <tr>\n",
       "      <th>2</th>\n",
       "      <td>3.178054</td>\n",
       "      <td>1</td>\n",
       "    </tr>\n",
       "    <tr>\n",
       "      <th>3</th>\n",
       "      <td>3.218876</td>\n",
       "      <td>1</td>\n",
       "    </tr>\n",
       "    <tr>\n",
       "      <th>4</th>\n",
       "      <td>3.258097</td>\n",
       "      <td>1</td>\n",
       "    </tr>\n",
       "    <tr>\n",
       "      <th>...</th>\n",
       "      <td>...</td>\n",
       "      <td>...</td>\n",
       "    </tr>\n",
       "    <tr>\n",
       "      <th>60</th>\n",
       "      <td>4.406719</td>\n",
       "      <td>1</td>\n",
       "    </tr>\n",
       "    <tr>\n",
       "      <th>61</th>\n",
       "      <td>4.418841</td>\n",
       "      <td>1</td>\n",
       "    </tr>\n",
       "    <tr>\n",
       "      <th>62</th>\n",
       "      <td>4.430817</td>\n",
       "      <td>1</td>\n",
       "    </tr>\n",
       "    <tr>\n",
       "      <th>63</th>\n",
       "      <td>4.442651</td>\n",
       "      <td>1</td>\n",
       "    </tr>\n",
       "    <tr>\n",
       "      <th>64</th>\n",
       "      <td>4.454347</td>\n",
       "      <td>1</td>\n",
       "    </tr>\n",
       "  </tbody>\n",
       "</table>\n",
       "<p>65 rows × 2 columns</p>\n",
       "</div>"
      ],
      "text/plain": [
       "    Lønnstrinn  intercept\n",
       "0     3.091042          1\n",
       "1     3.135494          1\n",
       "2     3.178054          1\n",
       "3     3.218876          1\n",
       "4     3.258097          1\n",
       "..         ...        ...\n",
       "60    4.406719          1\n",
       "61    4.418841          1\n",
       "62    4.430817          1\n",
       "63    4.442651          1\n",
       "64    4.454347          1\n",
       "\n",
       "[65 rows x 2 columns]"
      ]
     },
     "execution_count": 11,
     "metadata": {},
     "output_type": "execute_result"
    }
   ],
   "source": [
    "x=pd.DataFrame(np.log(k['Lønnstrinn']))\n",
    "x['intercept']=1\n",
    "x"
   ]
  },
  {
   "cell_type": "code",
   "execution_count": 12,
   "id": "ac29b1b1-9f43-4396-bb07-e2a0eb658d72",
   "metadata": {},
   "outputs": [
    {
     "name": "stderr",
     "output_type": "stream",
     "text": [
      "/usr/local/Miniconda3-py39_4.10.3-Linux-x86_64/lib/python3.9/site-packages/statsmodels/compat/pandas.py:65: FutureWarning: pandas.Int64Index is deprecated and will be removed from pandas in a future version. Use pandas.Index with the appropriate dtype instead.\n",
      "  from pandas import Int64Index as NumericIndex\n"
     ]
    },
    {
     "name": "stdout",
     "output_type": "stream",
     "text": [
      "                            OLS Regression Results                            \n",
      "==============================================================================\n",
      "Dep. Variable:                 Pr. år   R-squared:                       0.911\n",
      "Model:                            OLS   Adj. R-squared:                  0.910\n",
      "Method:                 Least Squares   F-statistic:                     647.2\n",
      "Date:                Tue, 26 Apr 2022   Prob (F-statistic):           7.61e-35\n",
      "Time:                        12:24:05   Log-Likelihood:                -802.87\n",
      "No. Observations:                  65   AIC:                             1610.\n",
      "Df Residuals:                      63   BIC:                             1614.\n",
      "Df Model:                           1                                         \n",
      "Covariance Type:            nonrobust                                         \n",
      "==============================================================================\n",
      "                 coef    std err          t      P>|t|      [0.025      0.975]\n",
      "------------------------------------------------------------------------------\n",
      "Lønnstrinn  4.682e+05   1.84e+04     25.440      0.000    4.31e+05    5.05e+05\n",
      "intercept  -1.223e+06   7.25e+04    -16.868      0.000   -1.37e+06   -1.08e+06\n",
      "==============================================================================\n",
      "Omnibus:                        9.241   Durbin-Watson:                   0.014\n",
      "Prob(Omnibus):                  0.010   Jarque-Bera (JB):                5.606\n",
      "Skew:                           0.550   Prob(JB):                       0.0606\n",
      "Kurtosis:                       2.073   Cond. No.                         43.1\n",
      "==============================================================================\n",
      "\n",
      "Notes:\n",
      "[1] Standard Errors assume that the covariance matrix of the errors is correctly specified.\n"
     ]
    }
   ],
   "source": [
    "from statsmodels.regression.linear_model import OLS\n",
    "\n",
    "res=OLS(y,x).fit()\n",
    "\n",
    "print(res.summary())"
   ]
  },
  {
   "cell_type": "code",
   "execution_count": 13,
   "id": "ddefb496-fa7b-4227-8972-205f3eb31720",
   "metadata": {},
   "outputs": [
    {
     "data": {
      "text/plain": [
       "Lønnstrinn    4.682057e+05\n",
       "intercept    -1.222980e+06\n",
       "dtype: float64"
      ]
     },
     "execution_count": 13,
     "metadata": {},
     "output_type": "execute_result"
    }
   ],
   "source": [
    "res.params"
   ]
  },
  {
   "cell_type": "code",
   "execution_count": 14,
   "id": "202b4e83-5fcb-4f51-953c-3c88944c6c90",
   "metadata": {},
   "outputs": [
    {
     "data": {
      "image/png": "[encoded data removed]",
      "text/plain": [
       "<Figure size 432x288 with 1 Axes>"
      ]
     },
     "execution_count": 14,
     "metadata": {},
     "output_type": "execute_result"
    }
   ],
   "source": [
    "x=np.linspace(min(np.log(k['Lønnstrinn'])), max(np.log(k['Lønnstrinn'])), 100)\n",
    "\n",
    "regression_line=res.params['intercept']+res.params['Lønnstrinn']*x\n",
    "\n",
    "ax.plot(x, regression_line,color='red')\n",
    "fig"
   ]
  },
  {
   "cell_type": "markdown",
   "id": "72d6c699-7b1c-481c-b5b1-30c2331d2d22",
   "metadata": {},
   "source": [
    "Regressjonsmodellen viser en sammenheng mellom lønnstrinn og lønn per år. Det er en jevn stigning i henhold til lønnstrinn. Høyere lønnstrinn vil tilsi en høyere lønn."
   ]
  }
 ],
 "metadata": {
  "kernelspec": {
   "display_name": "Python 3 (ipykernel)",
   "language": "python",
   "name": "python3"
  },
  "language_info": {
   "codemirror_mode": {
    "name": "ipython",
    "version": 3
   },
   "file_extension": ".py",
   "mimetype": "text/x-python",
   "name": "python",
   "nbconvert_exporter": "python",
   "pygments_lexer": "ipython3",
   "version": "3.9.9"
  }
 },
 "nbformat": 4,
 "nbformat_minor": 5
}
