{
 "cells": [
  {
   "cell_type": "code",
   "execution_count": null,
   "id": "026f36e8-4c75-4ec2-8ce3-0769f139f1e8",
   "metadata": {},
   "outputs": [],
   "source": [
    "rm(list = ls())\n",
    "\n",
    "library(tidyverse)\n",
    "library(rvest)\n",
    "library(rlist)\n",
    "library(dplyr)\n",
    "library(stats)\n",
    "\n",
    "\n",
    "url1 <- \"https://timeplan.uit.no/emne_timeplan.php?sem=22v&module%5B%5D=SOK-1005-1&week=1-20&View=list\"\n",
    "url2 <- \"https://timeplan.uit.no/emne_timeplan.php?sem=22v&module%5B%5D=SOK-1016-1&week=1-20&View=list\"\n",
    "url3 <- \"https://timeplan.uit.no/emne_timeplan.php?sem=22v&module%5B%5D=SOK-1006-1&week=1-20&View=list\"\n",
    "\n",
    "page1 <- read_html(url1)\n",
    "\n",
    "table1 <- html_nodes(page1, 'table')\n",
    "table1 <- html_table(table1, fill=TRUE)\n",
    "\n",
    "page2 <- read_html(url2)\n",
    "\n",
    "table2 <- html_nodes(page2, 'table')\n",
    "table2 <- html_table(table2, fill=TRUE)\n",
    "\n",
    "page3 <- read_html(url3)\n",
    "\n",
    "table3 <- html_nodes(page3, 'table')\n",
    "table3 <- html_table(table3, fill=TRUE)\n",
    "\n",
    "combined <- c(table1, table2, table3)\n",
    "\n",
    "\n",
    "combined_df <- imap_dfr(combined, ~.)\n",
    "\n",
    "df.long <- pivot_longer(combined_df, \n",
    "                        cols=c(\"Uke 2\",\"Uke 3\", \"Uke 4\", \"Uke 5\", \"Uke 6\", \"Uke 7\", \"Uke 8\", \"Uke 9\", \"Uke 10\", \"Uke 11\", \"Uke 12\", \"Uke 13\", \"Uke 14\", \"Uke 16\", \"Uke 17\", \"Uke 18\", \"Uke 19\", \"Uke 20\"), \n",
    "                        names_to = \"Uke\", \n",
    "                        values_to = \"Tid\")\n",
    "\n",
    "df.long <- df.long %>% separate(Dato, \n",
    "                              into = c(\"Dag\", \"Dato\"), \n",
    "                              sep = \"(?<=[A-Za-z])(?=[0-9])\")\n",
    "\n",
    "\n",
    "df.long <- df.long %>% filter(!Dato==\"Dato\")\n",
    "\n",
    "colnames(df.long) <- df.long[1,]\n",
    "\n"
   ]
  }
 ],
 "metadata": {
  "kernelspec": {
   "display_name": "R",
   "language": "R",
   "name": "ir"
  },
  "language_info": {
   "codemirror_mode": "r",
   "file_extension": ".r",
   "mimetype": "text/x-r-source",
   "name": "R",
   "pygments_lexer": "r",
   "version": "4.1.2"
  }
 },
 "nbformat": 4,
 "nbformat_minor": 5
}
