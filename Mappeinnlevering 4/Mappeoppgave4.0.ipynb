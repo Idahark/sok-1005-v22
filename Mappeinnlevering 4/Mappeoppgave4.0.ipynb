{
 "cells": [
  {
   "cell_type": "code",
   "execution_count": null,
   "id": "f8f5dbeb-0ea4-498b-bf5b-beeea9a67a54",
   "metadata": {},
   "outputs": [],
   "source": [
    "rm(list = ls())\n",
    "\n",
    "library(tidyverse)\n",
    "library(rvest)\n",
    "library(rlist)\n",
    "library(dplyr)\n",
    "library(stats)\n",
    "library(purrr)"
   ]
  },
  {
   "cell_type": "code",
   "execution_count": null,
   "id": "269de7e0-6170-4ba1-b9a0-b79d15e93b9a",
   "metadata": {},
   "outputs": [],
   "source": [
    "url1 <- \"https://timeplan.uit.no/emne_timeplan.php?sem=22v&module%5B%5D=SOK-1005-1&week=1-20&View=list\"\n",
    "url2 <- \"https://timeplan.uit.no/emne_timeplan.php?sem=22v&module%5B%5D=SOK-1016-1&week=1-20&View=list\"\n",
    "url3 <- \"https://timeplan.uit.no/emne_timeplan.php?sem=22v&module%5B%5D=SOK-1006-1&week=1-20&View=list\""
   ]
  },
  {
   "cell_type": "code",
   "execution_count": null,
   "id": "94aecba4-37f6-49b4-b9af-33a759a4edb2",
   "metadata": {},
   "outputs": [],
   "source": [
    "##Funksjon\n",
    "\n",
    "reading_urls <- function(x){\n",
    "\n",
    "page <- read_html(x)\n",
    "\n",
    "table <- html_nodes(page, 'table')\n",
    "table <- html_table(table, fill=TRUE)\n",
    "\n",
    "df <- list.stack(table)\n",
    "\n",
    "colnames(df) <- df[1,]\n",
    "\n",
    "df <- df %>% filter(!Dato==\"Dato\")\n",
    " \n",
    "\n",
    "df <- df %>% separate(Dato, \n",
    "           into = c(\"Dag\", \"Dato\"), \n",
    "           sep = \"(?<=[A-Za-z])(?=[0-9])\")\n",
    "\n",
    "df$Dato <- as.Date(df$Dato, format=\"%d.%m.%Y\")\n",
    "\n",
    "df$Uke <- strftime(df$Dato, format = \"%V\")\n",
    "\n",
    "df <- df %>% select(Dag,Dato,Uke,Tid,Rom,Emnekode,Beskrivelse)\n",
    "}\n"
   ]
  },
  {
   "cell_type": "code",
   "execution_count": null,
   "id": "e6cca127-5649-4dd1-9e93-c52ca76ddaf9",
   "metadata": {},
   "outputs": [],
   "source": [
    "##Bruke funksjon\n",
    "\n",
    "url1ny <- reading_urls(url1)\n",
    "url2ny <- reading_urls(url2)\n",
    "url3ny <- reading_urls(url3)"
   ]
  },
  {
   "cell_type": "code",
   "execution_count": null,
   "id": "7fe9bb70-d36a-4da0-94fe-4cb997f21238",
   "metadata": {},
   "outputs": [],
   "source": [
    "##Gjøre om til én og samme tabell\n",
    "\n",
    "combined <- list(url1ny, url2ny, url3ny)\n",
    "\n",
    "df <- combined %>%\n",
    "  map_dfr(~., inner_join)\n",
    "\n",
    "df_desc <- df %>%\n",
    "  arrange(-desc(df$Uke))"
   ]
  }
 ],
 "metadata": {
  "kernelspec": {
   "display_name": "R",
   "language": "R",
   "name": "ir"
  },
  "language_info": {
   "codemirror_mode": "r",
   "file_extension": ".r",
   "mimetype": "text/x-r-source",
   "name": "R",
   "pygments_lexer": "r",
   "version": "4.1.2"
  }
 },
 "nbformat": 4,
 "nbformat_minor": 5
}
